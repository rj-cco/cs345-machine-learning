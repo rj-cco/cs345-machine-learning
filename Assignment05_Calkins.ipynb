{
 "cells": [
  {
   "cell_type": "markdown",
   "id": "needed-license",
   "metadata": {},
   "source": [
    "# Introduction / Setup"
   ]
  },
  {
   "cell_type": "markdown",
   "id": "typical-ontario",
   "metadata": {},
   "source": [
    "**Motivation**: According to the CDC, in 2019, cancer was ranked as the number two cause of death in the United States, only behind heart disease and only by a margin of ~60,000. Cancer is one of the largest problems the human race currently has to endure, as there is no cure to this horrible disease. This notebook is going to specifically focus on data surrounding breast cancer. According to breastcancer.org, approximately 1 in 8 women in the U.S. will develop invasive breast cancer over the course of their lifetime. That is a staggering statistic. In this notebook, we are going to examine the Wisconsin Breast Cancer dataset, and apply machine learning algorithms to the dataset to see if we can train a model to accurately predict whether a breast mass is malignant or benign based on the given set of features. We will also examine which machine learning model gives us the most accurate predictions."
   ]
  },
  {
   "cell_type": "markdown",
   "id": "reserved-equilibrium",
   "metadata": {},
   "source": [
    "First, we are going to import sklearn and it's various packages, as this will give us access to the dataset we are trying to analyze and the machine learning algorithms we are going to use. We will also implement any other packages we need to use as necessary."
   ]
  },
  {
   "cell_type": "code",
   "execution_count": 1,
   "id": "stunning-plane",
   "metadata": {},
   "outputs": [],
   "source": [
    "# -- sklearn packages -- #\n",
    "from sklearn import datasets\n",
    "from sklearn.model_selection import train_test_split\n",
    "from sklearn.linear_model import LinearRegression\n",
    "from sklearn.metrics import mean_squared_error\n",
    "from sklearn.linear_model import LogisticRegression\n",
    "from sklearn import tree\n",
    "from sklearn.tree import DecisionTreeClassifier, plot_tree\n",
    "from sklearn.metrics import confusion_matrix\n",
    "from sklearn.metrics import ConfusionMatrixDisplay\n",
    "# ---------------------- #\n",
    "import numpy as np\n",
    "import pandas as pd\n",
    "from matplotlib import pyplot as plt\n",
    "%matplotlib inline"
   ]
  },
  {
   "cell_type": "markdown",
   "id": "federal-contrast",
   "metadata": {},
   "source": [
    "# Load the Dataset"
   ]
  },
  {
   "cell_type": "markdown",
   "id": "prime-crack",
   "metadata": {},
   "source": [
    "Below, we are using the load_breast_cancer function to gain access to the dataset. as_frame=True will give us the data as a pandas dataframe and the target as a pandas series. This will allow us to gain an intuition into how the data is setup, and allow us to easily see what data corresponds to which features in the dataset. I will then load the values from the pandas structures into separate X and y data structures, which we are going to use to apply to the machine learning algorithms"
   ]
  },
  {
   "cell_type": "markdown",
   "id": "downtown-maker",
   "metadata": {},
   "source": [
    "#### Dataframe"
   ]
  },
  {
   "cell_type": "code",
   "execution_count": 2,
   "id": "vertical-singer",
   "metadata": {},
   "outputs": [],
   "source": [
    "bc = datasets.load_breast_cancer(as_frame=True)\n",
    "X_df = bc.data\n",
    "y_df = bc.target"
   ]
  },
  {
   "cell_type": "code",
   "execution_count": 3,
   "id": "scheduled-nickel",
   "metadata": {
    "scrolled": false
   },
   "outputs": [
    {
     "data": {
      "text/html": [
       "<div>\n",
       "<style scoped>\n",
       "    .dataframe tbody tr th:only-of-type {\n",
       "        vertical-align: middle;\n",
       "    }\n",
       "\n",
       "    .dataframe tbody tr th {\n",
       "        vertical-align: top;\n",
       "    }\n",
       "\n",
       "    .dataframe thead th {\n",
       "        text-align: right;\n",
       "    }\n",
       "</style>\n",
       "<table border=\"1\" class=\"dataframe\">\n",
       "  <thead>\n",
       "    <tr style=\"text-align: right;\">\n",
       "      <th></th>\n",
       "      <th>mean radius</th>\n",
       "      <th>mean texture</th>\n",
       "      <th>mean perimeter</th>\n",
       "      <th>mean area</th>\n",
       "      <th>mean smoothness</th>\n",
       "      <th>mean compactness</th>\n",
       "      <th>mean concavity</th>\n",
       "      <th>mean concave points</th>\n",
       "      <th>mean symmetry</th>\n",
       "      <th>mean fractal dimension</th>\n",
       "      <th>...</th>\n",
       "      <th>worst radius</th>\n",
       "      <th>worst texture</th>\n",
       "      <th>worst perimeter</th>\n",
       "      <th>worst area</th>\n",
       "      <th>worst smoothness</th>\n",
       "      <th>worst compactness</th>\n",
       "      <th>worst concavity</th>\n",
       "      <th>worst concave points</th>\n",
       "      <th>worst symmetry</th>\n",
       "      <th>worst fractal dimension</th>\n",
       "    </tr>\n",
       "  </thead>\n",
       "  <tbody>\n",
       "    <tr>\n",
       "      <th>0</th>\n",
       "      <td>17.99</td>\n",
       "      <td>10.38</td>\n",
       "      <td>122.80</td>\n",
       "      <td>1001.0</td>\n",
       "      <td>0.11840</td>\n",
       "      <td>0.27760</td>\n",
       "      <td>0.30010</td>\n",
       "      <td>0.14710</td>\n",
       "      <td>0.2419</td>\n",
       "      <td>0.07871</td>\n",
       "      <td>...</td>\n",
       "      <td>25.38</td>\n",
       "      <td>17.33</td>\n",
       "      <td>184.60</td>\n",
       "      <td>2019.0</td>\n",
       "      <td>0.1622</td>\n",
       "      <td>0.6656</td>\n",
       "      <td>0.7119</td>\n",
       "      <td>0.26540</td>\n",
       "      <td>0.4601</td>\n",
       "      <td>0.11890</td>\n",
       "    </tr>\n",
       "    <tr>\n",
       "      <th>1</th>\n",
       "      <td>20.57</td>\n",
       "      <td>17.77</td>\n",
       "      <td>132.90</td>\n",
       "      <td>1326.0</td>\n",
       "      <td>0.08474</td>\n",
       "      <td>0.07864</td>\n",
       "      <td>0.08690</td>\n",
       "      <td>0.07017</td>\n",
       "      <td>0.1812</td>\n",
       "      <td>0.05667</td>\n",
       "      <td>...</td>\n",
       "      <td>24.99</td>\n",
       "      <td>23.41</td>\n",
       "      <td>158.80</td>\n",
       "      <td>1956.0</td>\n",
       "      <td>0.1238</td>\n",
       "      <td>0.1866</td>\n",
       "      <td>0.2416</td>\n",
       "      <td>0.18600</td>\n",
       "      <td>0.2750</td>\n",
       "      <td>0.08902</td>\n",
       "    </tr>\n",
       "    <tr>\n",
       "      <th>2</th>\n",
       "      <td>19.69</td>\n",
       "      <td>21.25</td>\n",
       "      <td>130.00</td>\n",
       "      <td>1203.0</td>\n",
       "      <td>0.10960</td>\n",
       "      <td>0.15990</td>\n",
       "      <td>0.19740</td>\n",
       "      <td>0.12790</td>\n",
       "      <td>0.2069</td>\n",
       "      <td>0.05999</td>\n",
       "      <td>...</td>\n",
       "      <td>23.57</td>\n",
       "      <td>25.53</td>\n",
       "      <td>152.50</td>\n",
       "      <td>1709.0</td>\n",
       "      <td>0.1444</td>\n",
       "      <td>0.4245</td>\n",
       "      <td>0.4504</td>\n",
       "      <td>0.24300</td>\n",
       "      <td>0.3613</td>\n",
       "      <td>0.08758</td>\n",
       "    </tr>\n",
       "    <tr>\n",
       "      <th>3</th>\n",
       "      <td>11.42</td>\n",
       "      <td>20.38</td>\n",
       "      <td>77.58</td>\n",
       "      <td>386.1</td>\n",
       "      <td>0.14250</td>\n",
       "      <td>0.28390</td>\n",
       "      <td>0.24140</td>\n",
       "      <td>0.10520</td>\n",
       "      <td>0.2597</td>\n",
       "      <td>0.09744</td>\n",
       "      <td>...</td>\n",
       "      <td>14.91</td>\n",
       "      <td>26.50</td>\n",
       "      <td>98.87</td>\n",
       "      <td>567.7</td>\n",
       "      <td>0.2098</td>\n",
       "      <td>0.8663</td>\n",
       "      <td>0.6869</td>\n",
       "      <td>0.25750</td>\n",
       "      <td>0.6638</td>\n",
       "      <td>0.17300</td>\n",
       "    </tr>\n",
       "    <tr>\n",
       "      <th>4</th>\n",
       "      <td>20.29</td>\n",
       "      <td>14.34</td>\n",
       "      <td>135.10</td>\n",
       "      <td>1297.0</td>\n",
       "      <td>0.10030</td>\n",
       "      <td>0.13280</td>\n",
       "      <td>0.19800</td>\n",
       "      <td>0.10430</td>\n",
       "      <td>0.1809</td>\n",
       "      <td>0.05883</td>\n",
       "      <td>...</td>\n",
       "      <td>22.54</td>\n",
       "      <td>16.67</td>\n",
       "      <td>152.20</td>\n",
       "      <td>1575.0</td>\n",
       "      <td>0.1374</td>\n",
       "      <td>0.2050</td>\n",
       "      <td>0.4000</td>\n",
       "      <td>0.16250</td>\n",
       "      <td>0.2364</td>\n",
       "      <td>0.07678</td>\n",
       "    </tr>\n",
       "    <tr>\n",
       "      <th>5</th>\n",
       "      <td>12.45</td>\n",
       "      <td>15.70</td>\n",
       "      <td>82.57</td>\n",
       "      <td>477.1</td>\n",
       "      <td>0.12780</td>\n",
       "      <td>0.17000</td>\n",
       "      <td>0.15780</td>\n",
       "      <td>0.08089</td>\n",
       "      <td>0.2087</td>\n",
       "      <td>0.07613</td>\n",
       "      <td>...</td>\n",
       "      <td>15.47</td>\n",
       "      <td>23.75</td>\n",
       "      <td>103.40</td>\n",
       "      <td>741.6</td>\n",
       "      <td>0.1791</td>\n",
       "      <td>0.5249</td>\n",
       "      <td>0.5355</td>\n",
       "      <td>0.17410</td>\n",
       "      <td>0.3985</td>\n",
       "      <td>0.12440</td>\n",
       "    </tr>\n",
       "    <tr>\n",
       "      <th>6</th>\n",
       "      <td>18.25</td>\n",
       "      <td>19.98</td>\n",
       "      <td>119.60</td>\n",
       "      <td>1040.0</td>\n",
       "      <td>0.09463</td>\n",
       "      <td>0.10900</td>\n",
       "      <td>0.11270</td>\n",
       "      <td>0.07400</td>\n",
       "      <td>0.1794</td>\n",
       "      <td>0.05742</td>\n",
       "      <td>...</td>\n",
       "      <td>22.88</td>\n",
       "      <td>27.66</td>\n",
       "      <td>153.20</td>\n",
       "      <td>1606.0</td>\n",
       "      <td>0.1442</td>\n",
       "      <td>0.2576</td>\n",
       "      <td>0.3784</td>\n",
       "      <td>0.19320</td>\n",
       "      <td>0.3063</td>\n",
       "      <td>0.08368</td>\n",
       "    </tr>\n",
       "    <tr>\n",
       "      <th>7</th>\n",
       "      <td>13.71</td>\n",
       "      <td>20.83</td>\n",
       "      <td>90.20</td>\n",
       "      <td>577.9</td>\n",
       "      <td>0.11890</td>\n",
       "      <td>0.16450</td>\n",
       "      <td>0.09366</td>\n",
       "      <td>0.05985</td>\n",
       "      <td>0.2196</td>\n",
       "      <td>0.07451</td>\n",
       "      <td>...</td>\n",
       "      <td>17.06</td>\n",
       "      <td>28.14</td>\n",
       "      <td>110.60</td>\n",
       "      <td>897.0</td>\n",
       "      <td>0.1654</td>\n",
       "      <td>0.3682</td>\n",
       "      <td>0.2678</td>\n",
       "      <td>0.15560</td>\n",
       "      <td>0.3196</td>\n",
       "      <td>0.11510</td>\n",
       "    </tr>\n",
       "    <tr>\n",
       "      <th>8</th>\n",
       "      <td>13.00</td>\n",
       "      <td>21.82</td>\n",
       "      <td>87.50</td>\n",
       "      <td>519.8</td>\n",
       "      <td>0.12730</td>\n",
       "      <td>0.19320</td>\n",
       "      <td>0.18590</td>\n",
       "      <td>0.09353</td>\n",
       "      <td>0.2350</td>\n",
       "      <td>0.07389</td>\n",
       "      <td>...</td>\n",
       "      <td>15.49</td>\n",
       "      <td>30.73</td>\n",
       "      <td>106.20</td>\n",
       "      <td>739.3</td>\n",
       "      <td>0.1703</td>\n",
       "      <td>0.5401</td>\n",
       "      <td>0.5390</td>\n",
       "      <td>0.20600</td>\n",
       "      <td>0.4378</td>\n",
       "      <td>0.10720</td>\n",
       "    </tr>\n",
       "    <tr>\n",
       "      <th>9</th>\n",
       "      <td>12.46</td>\n",
       "      <td>24.04</td>\n",
       "      <td>83.97</td>\n",
       "      <td>475.9</td>\n",
       "      <td>0.11860</td>\n",
       "      <td>0.23960</td>\n",
       "      <td>0.22730</td>\n",
       "      <td>0.08543</td>\n",
       "      <td>0.2030</td>\n",
       "      <td>0.08243</td>\n",
       "      <td>...</td>\n",
       "      <td>15.09</td>\n",
       "      <td>40.68</td>\n",
       "      <td>97.65</td>\n",
       "      <td>711.4</td>\n",
       "      <td>0.1853</td>\n",
       "      <td>1.0580</td>\n",
       "      <td>1.1050</td>\n",
       "      <td>0.22100</td>\n",
       "      <td>0.4366</td>\n",
       "      <td>0.20750</td>\n",
       "    </tr>\n",
       "    <tr>\n",
       "      <th>10</th>\n",
       "      <td>16.02</td>\n",
       "      <td>23.24</td>\n",
       "      <td>102.70</td>\n",
       "      <td>797.8</td>\n",
       "      <td>0.08206</td>\n",
       "      <td>0.06669</td>\n",
       "      <td>0.03299</td>\n",
       "      <td>0.03323</td>\n",
       "      <td>0.1528</td>\n",
       "      <td>0.05697</td>\n",
       "      <td>...</td>\n",
       "      <td>19.19</td>\n",
       "      <td>33.88</td>\n",
       "      <td>123.80</td>\n",
       "      <td>1150.0</td>\n",
       "      <td>0.1181</td>\n",
       "      <td>0.1551</td>\n",
       "      <td>0.1459</td>\n",
       "      <td>0.09975</td>\n",
       "      <td>0.2948</td>\n",
       "      <td>0.08452</td>\n",
       "    </tr>\n",
       "    <tr>\n",
       "      <th>11</th>\n",
       "      <td>15.78</td>\n",
       "      <td>17.89</td>\n",
       "      <td>103.60</td>\n",
       "      <td>781.0</td>\n",
       "      <td>0.09710</td>\n",
       "      <td>0.12920</td>\n",
       "      <td>0.09954</td>\n",
       "      <td>0.06606</td>\n",
       "      <td>0.1842</td>\n",
       "      <td>0.06082</td>\n",
       "      <td>...</td>\n",
       "      <td>20.42</td>\n",
       "      <td>27.28</td>\n",
       "      <td>136.50</td>\n",
       "      <td>1299.0</td>\n",
       "      <td>0.1396</td>\n",
       "      <td>0.5609</td>\n",
       "      <td>0.3965</td>\n",
       "      <td>0.18100</td>\n",
       "      <td>0.3792</td>\n",
       "      <td>0.10480</td>\n",
       "    </tr>\n",
       "    <tr>\n",
       "      <th>12</th>\n",
       "      <td>19.17</td>\n",
       "      <td>24.80</td>\n",
       "      <td>132.40</td>\n",
       "      <td>1123.0</td>\n",
       "      <td>0.09740</td>\n",
       "      <td>0.24580</td>\n",
       "      <td>0.20650</td>\n",
       "      <td>0.11180</td>\n",
       "      <td>0.2397</td>\n",
       "      <td>0.07800</td>\n",
       "      <td>...</td>\n",
       "      <td>20.96</td>\n",
       "      <td>29.94</td>\n",
       "      <td>151.70</td>\n",
       "      <td>1332.0</td>\n",
       "      <td>0.1037</td>\n",
       "      <td>0.3903</td>\n",
       "      <td>0.3639</td>\n",
       "      <td>0.17670</td>\n",
       "      <td>0.3176</td>\n",
       "      <td>0.10230</td>\n",
       "    </tr>\n",
       "    <tr>\n",
       "      <th>13</th>\n",
       "      <td>15.85</td>\n",
       "      <td>23.95</td>\n",
       "      <td>103.70</td>\n",
       "      <td>782.7</td>\n",
       "      <td>0.08401</td>\n",
       "      <td>0.10020</td>\n",
       "      <td>0.09938</td>\n",
       "      <td>0.05364</td>\n",
       "      <td>0.1847</td>\n",
       "      <td>0.05338</td>\n",
       "      <td>...</td>\n",
       "      <td>16.84</td>\n",
       "      <td>27.66</td>\n",
       "      <td>112.00</td>\n",
       "      <td>876.5</td>\n",
       "      <td>0.1131</td>\n",
       "      <td>0.1924</td>\n",
       "      <td>0.2322</td>\n",
       "      <td>0.11190</td>\n",
       "      <td>0.2809</td>\n",
       "      <td>0.06287</td>\n",
       "    </tr>\n",
       "    <tr>\n",
       "      <th>14</th>\n",
       "      <td>13.73</td>\n",
       "      <td>22.61</td>\n",
       "      <td>93.60</td>\n",
       "      <td>578.3</td>\n",
       "      <td>0.11310</td>\n",
       "      <td>0.22930</td>\n",
       "      <td>0.21280</td>\n",
       "      <td>0.08025</td>\n",
       "      <td>0.2069</td>\n",
       "      <td>0.07682</td>\n",
       "      <td>...</td>\n",
       "      <td>15.03</td>\n",
       "      <td>32.01</td>\n",
       "      <td>108.80</td>\n",
       "      <td>697.7</td>\n",
       "      <td>0.1651</td>\n",
       "      <td>0.7725</td>\n",
       "      <td>0.6943</td>\n",
       "      <td>0.22080</td>\n",
       "      <td>0.3596</td>\n",
       "      <td>0.14310</td>\n",
       "    </tr>\n",
       "    <tr>\n",
       "      <th>15</th>\n",
       "      <td>14.54</td>\n",
       "      <td>27.54</td>\n",
       "      <td>96.73</td>\n",
       "      <td>658.8</td>\n",
       "      <td>0.11390</td>\n",
       "      <td>0.15950</td>\n",
       "      <td>0.16390</td>\n",
       "      <td>0.07364</td>\n",
       "      <td>0.2303</td>\n",
       "      <td>0.07077</td>\n",
       "      <td>...</td>\n",
       "      <td>17.46</td>\n",
       "      <td>37.13</td>\n",
       "      <td>124.10</td>\n",
       "      <td>943.2</td>\n",
       "      <td>0.1678</td>\n",
       "      <td>0.6577</td>\n",
       "      <td>0.7026</td>\n",
       "      <td>0.17120</td>\n",
       "      <td>0.4218</td>\n",
       "      <td>0.13410</td>\n",
       "    </tr>\n",
       "    <tr>\n",
       "      <th>16</th>\n",
       "      <td>14.68</td>\n",
       "      <td>20.13</td>\n",
       "      <td>94.74</td>\n",
       "      <td>684.5</td>\n",
       "      <td>0.09867</td>\n",
       "      <td>0.07200</td>\n",
       "      <td>0.07395</td>\n",
       "      <td>0.05259</td>\n",
       "      <td>0.1586</td>\n",
       "      <td>0.05922</td>\n",
       "      <td>...</td>\n",
       "      <td>19.07</td>\n",
       "      <td>30.88</td>\n",
       "      <td>123.40</td>\n",
       "      <td>1138.0</td>\n",
       "      <td>0.1464</td>\n",
       "      <td>0.1871</td>\n",
       "      <td>0.2914</td>\n",
       "      <td>0.16090</td>\n",
       "      <td>0.3029</td>\n",
       "      <td>0.08216</td>\n",
       "    </tr>\n",
       "    <tr>\n",
       "      <th>17</th>\n",
       "      <td>16.13</td>\n",
       "      <td>20.68</td>\n",
       "      <td>108.10</td>\n",
       "      <td>798.8</td>\n",
       "      <td>0.11700</td>\n",
       "      <td>0.20220</td>\n",
       "      <td>0.17220</td>\n",
       "      <td>0.10280</td>\n",
       "      <td>0.2164</td>\n",
       "      <td>0.07356</td>\n",
       "      <td>...</td>\n",
       "      <td>20.96</td>\n",
       "      <td>31.48</td>\n",
       "      <td>136.80</td>\n",
       "      <td>1315.0</td>\n",
       "      <td>0.1789</td>\n",
       "      <td>0.4233</td>\n",
       "      <td>0.4784</td>\n",
       "      <td>0.20730</td>\n",
       "      <td>0.3706</td>\n",
       "      <td>0.11420</td>\n",
       "    </tr>\n",
       "    <tr>\n",
       "      <th>18</th>\n",
       "      <td>19.81</td>\n",
       "      <td>22.15</td>\n",
       "      <td>130.00</td>\n",
       "      <td>1260.0</td>\n",
       "      <td>0.09831</td>\n",
       "      <td>0.10270</td>\n",
       "      <td>0.14790</td>\n",
       "      <td>0.09498</td>\n",
       "      <td>0.1582</td>\n",
       "      <td>0.05395</td>\n",
       "      <td>...</td>\n",
       "      <td>27.32</td>\n",
       "      <td>30.88</td>\n",
       "      <td>186.80</td>\n",
       "      <td>2398.0</td>\n",
       "      <td>0.1512</td>\n",
       "      <td>0.3150</td>\n",
       "      <td>0.5372</td>\n",
       "      <td>0.23880</td>\n",
       "      <td>0.2768</td>\n",
       "      <td>0.07615</td>\n",
       "    </tr>\n",
       "    <tr>\n",
       "      <th>19</th>\n",
       "      <td>13.54</td>\n",
       "      <td>14.36</td>\n",
       "      <td>87.46</td>\n",
       "      <td>566.3</td>\n",
       "      <td>0.09779</td>\n",
       "      <td>0.08129</td>\n",
       "      <td>0.06664</td>\n",
       "      <td>0.04781</td>\n",
       "      <td>0.1885</td>\n",
       "      <td>0.05766</td>\n",
       "      <td>...</td>\n",
       "      <td>15.11</td>\n",
       "      <td>19.26</td>\n",
       "      <td>99.70</td>\n",
       "      <td>711.2</td>\n",
       "      <td>0.1440</td>\n",
       "      <td>0.1773</td>\n",
       "      <td>0.2390</td>\n",
       "      <td>0.12880</td>\n",
       "      <td>0.2977</td>\n",
       "      <td>0.07259</td>\n",
       "    </tr>\n",
       "  </tbody>\n",
       "</table>\n",
       "<p>20 rows × 30 columns</p>\n",
       "</div>"
      ],
      "text/plain": [
       "    mean radius  mean texture  mean perimeter  mean area  mean smoothness  \\\n",
       "0         17.99         10.38          122.80     1001.0          0.11840   \n",
       "1         20.57         17.77          132.90     1326.0          0.08474   \n",
       "2         19.69         21.25          130.00     1203.0          0.10960   \n",
       "3         11.42         20.38           77.58      386.1          0.14250   \n",
       "4         20.29         14.34          135.10     1297.0          0.10030   \n",
       "5         12.45         15.70           82.57      477.1          0.12780   \n",
       "6         18.25         19.98          119.60     1040.0          0.09463   \n",
       "7         13.71         20.83           90.20      577.9          0.11890   \n",
       "8         13.00         21.82           87.50      519.8          0.12730   \n",
       "9         12.46         24.04           83.97      475.9          0.11860   \n",
       "10        16.02         23.24          102.70      797.8          0.08206   \n",
       "11        15.78         17.89          103.60      781.0          0.09710   \n",
       "12        19.17         24.80          132.40     1123.0          0.09740   \n",
       "13        15.85         23.95          103.70      782.7          0.08401   \n",
       "14        13.73         22.61           93.60      578.3          0.11310   \n",
       "15        14.54         27.54           96.73      658.8          0.11390   \n",
       "16        14.68         20.13           94.74      684.5          0.09867   \n",
       "17        16.13         20.68          108.10      798.8          0.11700   \n",
       "18        19.81         22.15          130.00     1260.0          0.09831   \n",
       "19        13.54         14.36           87.46      566.3          0.09779   \n",
       "\n",
       "    mean compactness  mean concavity  mean concave points  mean symmetry  \\\n",
       "0            0.27760         0.30010              0.14710         0.2419   \n",
       "1            0.07864         0.08690              0.07017         0.1812   \n",
       "2            0.15990         0.19740              0.12790         0.2069   \n",
       "3            0.28390         0.24140              0.10520         0.2597   \n",
       "4            0.13280         0.19800              0.10430         0.1809   \n",
       "5            0.17000         0.15780              0.08089         0.2087   \n",
       "6            0.10900         0.11270              0.07400         0.1794   \n",
       "7            0.16450         0.09366              0.05985         0.2196   \n",
       "8            0.19320         0.18590              0.09353         0.2350   \n",
       "9            0.23960         0.22730              0.08543         0.2030   \n",
       "10           0.06669         0.03299              0.03323         0.1528   \n",
       "11           0.12920         0.09954              0.06606         0.1842   \n",
       "12           0.24580         0.20650              0.11180         0.2397   \n",
       "13           0.10020         0.09938              0.05364         0.1847   \n",
       "14           0.22930         0.21280              0.08025         0.2069   \n",
       "15           0.15950         0.16390              0.07364         0.2303   \n",
       "16           0.07200         0.07395              0.05259         0.1586   \n",
       "17           0.20220         0.17220              0.10280         0.2164   \n",
       "18           0.10270         0.14790              0.09498         0.1582   \n",
       "19           0.08129         0.06664              0.04781         0.1885   \n",
       "\n",
       "    mean fractal dimension  ...  worst radius  worst texture  worst perimeter  \\\n",
       "0                  0.07871  ...         25.38          17.33           184.60   \n",
       "1                  0.05667  ...         24.99          23.41           158.80   \n",
       "2                  0.05999  ...         23.57          25.53           152.50   \n",
       "3                  0.09744  ...         14.91          26.50            98.87   \n",
       "4                  0.05883  ...         22.54          16.67           152.20   \n",
       "5                  0.07613  ...         15.47          23.75           103.40   \n",
       "6                  0.05742  ...         22.88          27.66           153.20   \n",
       "7                  0.07451  ...         17.06          28.14           110.60   \n",
       "8                  0.07389  ...         15.49          30.73           106.20   \n",
       "9                  0.08243  ...         15.09          40.68            97.65   \n",
       "10                 0.05697  ...         19.19          33.88           123.80   \n",
       "11                 0.06082  ...         20.42          27.28           136.50   \n",
       "12                 0.07800  ...         20.96          29.94           151.70   \n",
       "13                 0.05338  ...         16.84          27.66           112.00   \n",
       "14                 0.07682  ...         15.03          32.01           108.80   \n",
       "15                 0.07077  ...         17.46          37.13           124.10   \n",
       "16                 0.05922  ...         19.07          30.88           123.40   \n",
       "17                 0.07356  ...         20.96          31.48           136.80   \n",
       "18                 0.05395  ...         27.32          30.88           186.80   \n",
       "19                 0.05766  ...         15.11          19.26            99.70   \n",
       "\n",
       "    worst area  worst smoothness  worst compactness  worst concavity  \\\n",
       "0       2019.0            0.1622             0.6656           0.7119   \n",
       "1       1956.0            0.1238             0.1866           0.2416   \n",
       "2       1709.0            0.1444             0.4245           0.4504   \n",
       "3        567.7            0.2098             0.8663           0.6869   \n",
       "4       1575.0            0.1374             0.2050           0.4000   \n",
       "5        741.6            0.1791             0.5249           0.5355   \n",
       "6       1606.0            0.1442             0.2576           0.3784   \n",
       "7        897.0            0.1654             0.3682           0.2678   \n",
       "8        739.3            0.1703             0.5401           0.5390   \n",
       "9        711.4            0.1853             1.0580           1.1050   \n",
       "10      1150.0            0.1181             0.1551           0.1459   \n",
       "11      1299.0            0.1396             0.5609           0.3965   \n",
       "12      1332.0            0.1037             0.3903           0.3639   \n",
       "13       876.5            0.1131             0.1924           0.2322   \n",
       "14       697.7            0.1651             0.7725           0.6943   \n",
       "15       943.2            0.1678             0.6577           0.7026   \n",
       "16      1138.0            0.1464             0.1871           0.2914   \n",
       "17      1315.0            0.1789             0.4233           0.4784   \n",
       "18      2398.0            0.1512             0.3150           0.5372   \n",
       "19       711.2            0.1440             0.1773           0.2390   \n",
       "\n",
       "    worst concave points  worst symmetry  worst fractal dimension  \n",
       "0                0.26540          0.4601                  0.11890  \n",
       "1                0.18600          0.2750                  0.08902  \n",
       "2                0.24300          0.3613                  0.08758  \n",
       "3                0.25750          0.6638                  0.17300  \n",
       "4                0.16250          0.2364                  0.07678  \n",
       "5                0.17410          0.3985                  0.12440  \n",
       "6                0.19320          0.3063                  0.08368  \n",
       "7                0.15560          0.3196                  0.11510  \n",
       "8                0.20600          0.4378                  0.10720  \n",
       "9                0.22100          0.4366                  0.20750  \n",
       "10               0.09975          0.2948                  0.08452  \n",
       "11               0.18100          0.3792                  0.10480  \n",
       "12               0.17670          0.3176                  0.10230  \n",
       "13               0.11190          0.2809                  0.06287  \n",
       "14               0.22080          0.3596                  0.14310  \n",
       "15               0.17120          0.4218                  0.13410  \n",
       "16               0.16090          0.3029                  0.08216  \n",
       "17               0.20730          0.3706                  0.11420  \n",
       "18               0.23880          0.2768                  0.07615  \n",
       "19               0.12880          0.2977                  0.07259  \n",
       "\n",
       "[20 rows x 30 columns]"
      ]
     },
     "execution_count": 3,
     "metadata": {},
     "output_type": "execute_result"
    }
   ],
   "source": [
    "X_df.head(20)"
   ]
  },
  {
   "cell_type": "code",
   "execution_count": 4,
   "id": "optimum-louisiana",
   "metadata": {},
   "outputs": [
    {
     "data": {
      "text/plain": [
       "0     0\n",
       "1     0\n",
       "2     0\n",
       "3     0\n",
       "4     0\n",
       "5     0\n",
       "6     0\n",
       "7     0\n",
       "8     0\n",
       "9     0\n",
       "10    0\n",
       "11    0\n",
       "12    0\n",
       "13    0\n",
       "14    0\n",
       "15    0\n",
       "16    0\n",
       "17    0\n",
       "18    0\n",
       "19    1\n",
       "Name: target, dtype: int64"
      ]
     },
     "execution_count": 4,
     "metadata": {},
     "output_type": "execute_result"
    }
   ],
   "source": [
    "y_df.head(20)"
   ]
  },
  {
   "cell_type": "markdown",
   "id": "acceptable-premium",
   "metadata": {},
   "source": [
    "#### Values"
   ]
  },
  {
   "cell_type": "code",
   "execution_count": 5,
   "id": "bizarre-homework",
   "metadata": {
    "scrolled": true
   },
   "outputs": [
    {
     "name": "stdout",
     "output_type": "stream",
     "text": [
      "Shape of X: (569, 30), Shape of y: (569,)\n"
     ]
    }
   ],
   "source": [
    "X = bc.data.values\n",
    "y = bc.target.values\n",
    "print(f'Shape of X: {X.shape}, Shape of y: {y.shape}')"
   ]
  },
  {
   "cell_type": "markdown",
   "id": "completed-discrimination",
   "metadata": {},
   "source": [
    "# Setup ML Models"
   ]
  },
  {
   "cell_type": "markdown",
   "id": "stretch-traffic",
   "metadata": {},
   "source": [
    "### Train-Test Splits"
   ]
  },
  {
   "cell_type": "markdown",
   "id": "boring-zimbabwe",
   "metadata": {},
   "source": [
    "In order to get a more accurate comparison between all of the machine learning model predictions, the train test splits are going to be \"global\" meaning that all machine learning models will use train and test data created on the same split size, so that train and test sets don't account for possible variance. We are going to use a training data size of 67% and a test data size of 33%."
   ]
  },
  {
   "cell_type": "code",
   "execution_count": 6,
   "id": "forced-running",
   "metadata": {},
   "outputs": [],
   "source": [
    "X_train, X_test, y_train, y_test = train_test_split(X, y, test_size = (1/3), random_state=42, shuffle=True)"
   ]
  },
  {
   "cell_type": "markdown",
   "id": "directed-individual",
   "metadata": {},
   "source": [
    "## 1) Multivariate Linear Regression vs Logistic Regression"
   ]
  },
  {
   "cell_type": "markdown",
   "id": "suspected-holmes",
   "metadata": {},
   "source": [
    "For the first application of machine learning, we are going to compare the predictions given to us by multivariate linear regression and logistic regression. I figured this would be an interesting comparison because both are linear models (but there are important differences in this linearity, which will be discussed after the results are analyzed, otherwise the comparison will be spoiled), fast and easy to train, and highly interpretable. Disadvantages to linear models include that they presume a linear relationship between the data. Neither linear regression model is especially competitive with the top supervised learning models. But one advntage of logistic regression over multivariate regression is that it's less sensitive to outliers."
   ]
  },
  {
   "cell_type": "markdown",
   "id": "generic-powder",
   "metadata": {},
   "source": [
    "### Multivariate Linear Regression"
   ]
  },
  {
   "cell_type": "code",
   "execution_count": 7,
   "id": "amended-surge",
   "metadata": {},
   "outputs": [],
   "source": [
    "linreg = LinearRegression()\n",
    "linreg.fit(X_train, y_train);"
   ]
  },
  {
   "cell_type": "markdown",
   "id": "composite-concrete",
   "metadata": {},
   "source": [
    "### Logistic Regression"
   ]
  },
  {
   "cell_type": "code",
   "execution_count": 8,
   "id": "ordinary-portsmouth",
   "metadata": {},
   "outputs": [],
   "source": [
    "logreg = LogisticRegression(max_iter=2500)\n",
    "logreg.fit(X_train, y_train);"
   ]
  },
  {
   "cell_type": "markdown",
   "id": "overall-surgery",
   "metadata": {},
   "source": [
    "That's truthfully all it takes to setup these models. max_iter is a parameter that increases the number of iterations the model is allowed to run, 2500 is approximately the threshold for logistic regression to run without warnings for this particular dataset."
   ]
  },
  {
   "cell_type": "markdown",
   "id": "attended-marathon",
   "metadata": {},
   "source": [
    "## 2) Decision Trees"
   ]
  },
  {
   "cell_type": "markdown",
   "id": "successful-incident",
   "metadata": {},
   "source": [
    "Decision trees work by splitting the dataset into smaller pieces. The data branches out into a tree like structure. Decision Trees essentially allow us to ask questions, and make decisions based upon those questions. Data will be separated into buckets based on these quesitons, and trickle down to the bottom of the tree until it reaches the leaf nodes. Decision trees have the advantage of being simple to udnerstand and interpret, and allows us to actually see what's going on under the hood of the algorithm with a graphical representation of the tree. It is fast to train, and can easily deal with a mix of categorical and numerical data. However, decision trees, are unstable and often relatively inaccurate, which is an ominous statement to make before making predictions with this model."
   ]
  },
  {
   "cell_type": "code",
   "execution_count": 9,
   "id": "genuine-destination",
   "metadata": {},
   "outputs": [],
   "source": [
    "tree_class = tree.DecisionTreeClassifier(criterion='entropy', max_depth=8)\n",
    "tree_class.fit(X_train, y_train);"
   ]
  },
  {
   "cell_type": "markdown",
   "id": "quantitative-native",
   "metadata": {},
   "source": [
    "# Execution of Models and Summarization of Performance"
   ]
  },
  {
   "cell_type": "markdown",
   "id": "encouraging-retailer",
   "metadata": {},
   "source": [
    "An important part of this section is going to be the use of confusion matrices. The confusion matrix will show us where the classifier made mistakes, for example, if the classifier marked a malignant mass as a benign mass, which is EXTREMELY important to know if that happens as that would be a catastrophic diagnosis. We want the classifier that maximally minimizes these mistakes."
   ]
  },
  {
   "cell_type": "markdown",
   "id": "noticed-serial",
   "metadata": {},
   "source": [
    "### Linear Regression"
   ]
  },
  {
   "cell_type": "code",
   "execution_count": 10,
   "id": "matched-smoke",
   "metadata": {
    "scrolled": true
   },
   "outputs": [
    {
     "name": "stdout",
     "output_type": "stream",
     "text": [
      "Correctly marked masses: 98\n",
      "Incorrectly marked masses: 92\n",
      "RMSE: 0.696\n",
      "Mean accuracy: 0.7583375678842635\n"
     ]
    },
    {
     "data": {
      "image/png": "[encoded data removed]",
      "text/plain": [
       "<Figure size 432x288 with 2 Axes>"
      ]
     },
     "metadata": {
      "needs_background": "light"
     },
     "output_type": "display_data"
    }
   ],
   "source": [
    "y_linreg_pred = linreg.predict(X_test)\n",
    "y_linreg_pred = [int(num) for num in y_linreg_pred]\n",
    "c_m_linreg = confusion_matrix(y_test, y_linreg_pred)\n",
    "correct_linreg = c_m_linreg[0, 0] + c_m_linreg[1, 1]\n",
    "incorrect_linreg = c_m_linreg[0, 1] + c_m_linreg[1, 0]\n",
    "print(f'Correctly marked masses: {correct_linreg}')\n",
    "print(f'Incorrectly marked masses: {incorrect_linreg}')\n",
    "print(f'RMSE: {np.round(mean_squared_error(y_test, y_linreg_pred, squared=False), decimals=3)}')\n",
    "print(f'Mean accuracy: {linreg.score(X,y)}')\n",
    "disp = ConfusionMatrixDisplay(confusion_matrix = c_m_linreg)\n",
    "disp.plot();"
   ]
  },
  {
   "cell_type": "markdown",
   "id": "rural-vintage",
   "metadata": {},
   "source": [
    "Let's take a second to evaluate what we're looking at here. Since this is a model generally used for regression, I have added RMSE in the calculations. First, the RMSE itself is pretty poor, generally the closer the RMSE is to 0 the better the classifier is, because it means the predicted line isn't far off from the data points. But this isn't really the story here. According to the confusion matrix, on our test set it predicted only half correctly. But even MORE importantly, it incorrectly marekd 92 masses, and those incorrected masses were all actually malignant but predicted as benign. I cannot stress how big of a problem that is. This is essentially completely useless, only correctly predicting masses 75 out of 100 times is not enough for a problem that needs as much care as possible. Let's see if logistic regression fairs any better."
   ]
  },
  {
   "cell_type": "markdown",
   "id": "respected-martial",
   "metadata": {},
   "source": [
    "### Logistic Regression"
   ]
  },
  {
   "cell_type": "code",
   "execution_count": 11,
   "id": "cognitive-costs",
   "metadata": {
    "scrolled": true
   },
   "outputs": [
    {
     "name": "stdout",
     "output_type": "stream",
     "text": [
      "Correctly marked masses: 184\n",
      "Incorrectly marked masses: 6\n",
      "RMSE: 0.178\n",
      "Mean accuracy: 0.9630931458699473\n"
     ]
    },
    {
     "data": {
      "image/png": "[encoded data removed]",
      "text/plain": [
       "<Figure size 432x288 with 2 Axes>"
      ]
     },
     "metadata": {
      "needs_background": "light"
     },
     "output_type": "display_data"
    }
   ],
   "source": [
    "y_logreg_pred = logreg.predict(X_test)\n",
    "c_m_logreg = confusion_matrix(y_test, y_logreg_pred)\n",
    "correct_logreg = c_m_logreg[0, 0] + c_m_logreg[1, 1]\n",
    "incorrect_logreg = c_m_logreg[0, 1] + c_m_logreg[1, 0]\n",
    "print(f'Correctly marked masses: {correct_logreg}')\n",
    "print(f'Incorrectly marked masses: {incorrect_logreg}')\n",
    "print(f'RMSE: {np.round(mean_squared_error(y_test, y_logreg_pred, squared=False), decimals=3)}')\n",
    "print(f'Mean accuracy: {logreg.score(X,y)}')\n",
    "disp = ConfusionMatrixDisplay(confusion_matrix = c_m_logreg)\n",
    "disp.plot();"
   ]
  },
  {
   "cell_type": "markdown",
   "id": "popular-scratch",
   "metadata": {},
   "source": [
    "This is MUCH better than what we saw with multivariate regression, this is much more along the lines of what we wwould hope to see. A mean accuracy of 96 times out of 100 is fantastic, and when comparing the prediction set with the test set, only getting 6 incorrect overall is pretty incredible. This can be considered a good algorithm to use for this dataset."
   ]
  },
  {
   "cell_type": "markdown",
   "id": "velvet-domain",
   "metadata": {},
   "source": [
    "## Decision Tree"
   ]
  },
  {
   "cell_type": "markdown",
   "id": "downtown-tuning",
   "metadata": {},
   "source": [
    "Let's first look at the tree itself, since Decision Trees allow us to take peek inside the algorithm."
   ]
  },
  {
   "cell_type": "code",
   "execution_count": 12,
   "id": "capable-federal",
   "metadata": {
    "scrolled": false
   },
   "outputs": [
    {
     "data": {
      "image/png": "[encoded data removed]",
      "text/plain": [
       "<Figure size 1296x864 with 1 Axes>"
      ]
     },
     "metadata": {
      "needs_background": "light"
     },
     "output_type": "display_data"
    }
   ],
   "source": [
    "plt.figure(figsize=(18,12))\n",
    "plot_tree(tree_class, filled=True, rounded=True);"
   ]
  },
  {
   "cell_type": "code",
   "execution_count": 13,
   "id": "military-schedule",
   "metadata": {
    "scrolled": true
   },
   "outputs": [
    {
     "name": "stdout",
     "output_type": "stream",
     "text": [
      "Correctly marked masses: 180\n",
      "Incorrectly marked masses: 10\n",
      "RMSE: 0.229\n",
      "Mean accuracy: 0.9824253075571178\n"
     ]
    },
    {
     "data": {
      "image/png": "[encoded data removed]",
      "text/plain": [
       "<Figure size 432x288 with 2 Axes>"
      ]
     },
     "metadata": {
      "needs_background": "light"
     },
     "output_type": "display_data"
    }
   ],
   "source": [
    "y_tree_pred = tree_class.predict(X_test)\n",
    "c_m_tree = confusion_matrix(y_test, y_tree_pred)\n",
    "correct_tree = c_m_tree[0, 0] + c_m_tree[1, 1]\n",
    "incorrect_tree = c_m_tree[0, 1] + c_m_tree[1, 0]\n",
    "print(f'Correctly marked masses: {correct_tree}')\n",
    "print(f'Incorrectly marked masses: {incorrect_tree}')\n",
    "print(f'RMSE: {np.round(mean_squared_error(y_test, y_tree_pred, squared=False), decimals=3)}')\n",
    "print(f'Mean accuracy: {tree_class.score(X,y)}')\n",
    "disp = ConfusionMatrixDisplay(confusion_matrix = c_m_tree)\n",
    "disp.plot();"
   ]
  },
  {
   "cell_type": "markdown",
   "id": "explicit-equality",
   "metadata": {},
   "source": [
    "This algorithm did a fantastic job for this dataset. The RMSE is low, from the prediction set to the test set it only misclassified 10 out of 190, which is only around 5% incorrect. Even better, the Mean accuracy is roughly 98 times out of 100 correctly identified masses, which is absolutely outstanding. This can definitely be considered a good algorithm for this dataset."
   ]
  },
  {
   "cell_type": "markdown",
   "id": "tropical-georgia",
   "metadata": {},
   "source": [
    "# Conclusions / Observations"
   ]
  },
  {
   "cell_type": "markdown",
   "id": "healthy-single",
   "metadata": {},
   "source": [
    "### Multivariate Regression vs Logistic Regression"
   ]
  },
  {
   "cell_type": "markdown",
   "id": "tutorial-union",
   "metadata": {},
   "source": [
    "Now is the time I want to answer the question you've been asking this whole time \"Why are you running multivariate linear regression on a classification dataset?\". If you didn't already know, this is a classification dataset, and NOT a regression dataset. I wanted to run multivariate linear regression on this dataset for that exact reason, to demonstrate the fact that the dataset is a classification dataset and how running regression on it differs from classification. For linear regression, the predicted values are floating point numbers because it's trying to get an exact number instead of classifying the data into a bucket, so I had to round the values, which inevitably caused some problems with the accuracy. This led to the linear regression performing pretty poorly for this dataset, but that's the point, it's not designed for this type of data. On the other hand, Logistic Regression is a linear classifier used for classification (although it can also be used for regression, but it's mainly used for classification), and thus works very well with this data. I wanted to do this to show it's just as important to understand what type of data you are working with as it is knowing how to apply ML algorithms to data."
   ]
  },
  {
   "cell_type": "markdown",
   "id": "graphic-thirty",
   "metadata": {},
   "source": [
    "### Logistic Regression vs Decision Tree"
   ]
  },
  {
   "cell_type": "markdown",
   "id": "intimate-presentation",
   "metadata": {},
   "source": [
    "These two algoirthms both did a pretty amazing job at predicting whether a mass is malignant or benign. The really interesting to first compare, is both algoirthms had the same RMSE value. Even more interestingly, is that for the prediction dataset, the logistic regression algorithm was able to correctly identify 184 out of the 190 possible samples, while the decision tree correctly identified slightly less at 180 out of 190. The first thing we can take notice of when deciding a \"winner\" however, is that logistic regression had a small hiccup comapred to the decision tree when comparing the incorrectly labeled samples. More of the misses for logistic regression occur as a false negative than a false positive, meaning more malignant tumors are marked as benign than vice versa, which is somewhat of a problem. A false positive is initially scarier, but a false negative can be much more damaging if not caught early. This gives 1 point to the decision tree because I think even though more are identified as incorrect, they are false positives which isn't as big of a worry. The last observation is that the mean accuracy is higher for the decision tree. For logistic regression we see a mean accuracy of .96, while with decision trees, we see a mean accuracy of .98. This .2 difference may not seem like much, but in something as important as identifying malingant cancer masses, that can be the difference between saving someone's life. Overall, if I had to make a decision, I would recommend applying decision trees to this dataset."
   ]
  },
  {
   "cell_type": "code",
   "execution_count": null,
   "id": "blank-commonwealth",
   "metadata": {},
   "outputs": [],
   "source": []
  }
 ],
 "metadata": {
  "kernelspec": {
   "display_name": "Python 3",
   "language": "python",
   "name": "python3"
  },
  "language_info": {
   "codemirror_mode": {
    "name": "ipython",
    "version": 3
   },
   "file_extension": ".py",
   "mimetype": "text/x-python",
   "name": "python",
   "nbconvert_exporter": "python",
   "pygments_lexer": "ipython3",
   "version": "3.8.5"
  }
 },
 "nbformat": 4,
 "nbformat_minor": 5
}
